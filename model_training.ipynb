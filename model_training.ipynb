{
  "nbformat": 4,
  "nbformat_minor": 0,
  "metadata": {
    "colab": {
      "provenance": [],
      "gpuType": "L4"
    },
    "kernelspec": {
      "name": "python3",
      "display_name": "Python 3"
    },
    "language_info": {
      "name": "python"
    },
    "accelerator": "GPU"
  },
  "cells": [
    {
      "cell_type": "code",
      "execution_count": 4,
      "metadata": {
        "colab": {
          "base_uri": "https://localhost:8080/"
        },
        "id": "hPGAQY15ZzX2",
        "outputId": "39663a64-8135-4f39-b938-db6179856650"
      },
      "outputs": [
        {
          "output_type": "stream",
          "name": "stdout",
          "text": [
            "Mounted at /content/drive\n"
          ]
        }
      ],
      "source": [
        "from google.colab import drive\n",
        "drive.mount('/content/drive')"
      ]
    },
    {
      "cell_type": "code",
      "source": [
        "import zipfile\n",
        "import os\n",
        "\n",
        "zip_path = \"/content/drive/MyDrive/plate-project/archive.zip\"\n",
        "extract_path = \"/content/yolo_plate_dataset\"\n",
        "\n",
        "with zipfile.ZipFile(zip_path, 'r') as zip_ref:\n",
        "    zip_ref.extractall(extract_path)\n",
        "\n",
        "print(\"Zip açıldı:\", os.listdir(extract_path))"
      ],
      "metadata": {
        "colab": {
          "base_uri": "https://localhost:8080/"
        },
        "id": "8o6PWPliZ2tG",
        "outputId": "989ab165-cfc4-4ca2-c1da-00dab3334fdc"
      },
      "execution_count": 2,
      "outputs": [
        {
          "output_type": "stream",
          "name": "stdout",
          "text": [
            "Zip açıldı: ['label', 'images']\n"
          ]
        }
      ]
    },
    {
      "cell_type": "code",
      "source": [
        "import cv2\n",
        "import glob\n",
        "\n",
        "IMG_SIZE = 224\n",
        "image_paths = glob.glob(\"/content/yolo_plate_dataset/images/*\")\n",
        "\n",
        "for path in image_paths:\n",
        "    img = cv2.imread(path)\n",
        "    if img is None:\n",
        "        continue\n",
        "    img_resized = cv2.resize(img, (IMG_SIZE, IMG_SIZE))\n",
        "    cv2.imwrite(path, img_resized)"
      ],
      "metadata": {
        "id": "G-C-iz-jZ_uU"
      },
      "execution_count": 3,
      "outputs": []
    },
    {
      "cell_type": "code",
      "source": [
        "pip install ultralytics"
      ],
      "metadata": {
        "colab": {
          "base_uri": "https://localhost:8080/"
        },
        "id": "6vXZ-eejaDPD",
        "outputId": "c6c3316e-59ce-4686-fb32-eef89369970c"
      },
      "execution_count": 2,
      "outputs": [
        {
          "output_type": "stream",
          "name": "stdout",
          "text": [
            "Collecting ultralytics\n",
            "  Downloading ultralytics-8.3.169-py3-none-any.whl.metadata (37 kB)\n",
            "Requirement already satisfied: numpy>=1.23.0 in /usr/local/lib/python3.11/dist-packages (from ultralytics) (2.0.2)\n",
            "Requirement already satisfied: matplotlib>=3.3.0 in /usr/local/lib/python3.11/dist-packages (from ultralytics) (3.10.0)\n",
            "Requirement already satisfied: opencv-python>=4.6.0 in /usr/local/lib/python3.11/dist-packages (from ultralytics) (4.12.0.88)\n",
            "Requirement already satisfied: pillow>=7.1.2 in /usr/local/lib/python3.11/dist-packages (from ultralytics) (11.3.0)\n",
            "Requirement already satisfied: pyyaml>=5.3.1 in /usr/local/lib/python3.11/dist-packages (from ultralytics) (6.0.2)\n",
            "Requirement already satisfied: requests>=2.23.0 in /usr/local/lib/python3.11/dist-packages (from ultralytics) (2.32.3)\n",
            "Requirement already satisfied: scipy>=1.4.1 in /usr/local/lib/python3.11/dist-packages (from ultralytics) (1.16.0)\n",
            "Requirement already satisfied: torch>=1.8.0 in /usr/local/lib/python3.11/dist-packages (from ultralytics) (2.6.0+cu124)\n",
            "Requirement already satisfied: torchvision>=0.9.0 in /usr/local/lib/python3.11/dist-packages (from ultralytics) (0.21.0+cu124)\n",
            "Requirement already satisfied: tqdm>=4.64.0 in /usr/local/lib/python3.11/dist-packages (from ultralytics) (4.67.1)\n",
            "Requirement already satisfied: psutil in /usr/local/lib/python3.11/dist-packages (from ultralytics) (5.9.5)\n",
            "Requirement already satisfied: py-cpuinfo in /usr/local/lib/python3.11/dist-packages (from ultralytics) (9.0.0)\n",
            "Requirement already satisfied: pandas>=1.1.4 in /usr/local/lib/python3.11/dist-packages (from ultralytics) (2.2.2)\n",
            "Collecting ultralytics-thop>=2.0.0 (from ultralytics)\n",
            "  Downloading ultralytics_thop-2.0.14-py3-none-any.whl.metadata (9.4 kB)\n",
            "Requirement already satisfied: contourpy>=1.0.1 in /usr/local/lib/python3.11/dist-packages (from matplotlib>=3.3.0->ultralytics) (1.3.2)\n",
            "Requirement already satisfied: cycler>=0.10 in /usr/local/lib/python3.11/dist-packages (from matplotlib>=3.3.0->ultralytics) (0.12.1)\n",
            "Requirement already satisfied: fonttools>=4.22.0 in /usr/local/lib/python3.11/dist-packages (from matplotlib>=3.3.0->ultralytics) (4.59.0)\n",
            "Requirement already satisfied: kiwisolver>=1.3.1 in /usr/local/lib/python3.11/dist-packages (from matplotlib>=3.3.0->ultralytics) (1.4.8)\n",
            "Requirement already satisfied: packaging>=20.0 in /usr/local/lib/python3.11/dist-packages (from matplotlib>=3.3.0->ultralytics) (25.0)\n",
            "Requirement already satisfied: pyparsing>=2.3.1 in /usr/local/lib/python3.11/dist-packages (from matplotlib>=3.3.0->ultralytics) (3.2.3)\n",
            "Requirement already satisfied: python-dateutil>=2.7 in /usr/local/lib/python3.11/dist-packages (from matplotlib>=3.3.0->ultralytics) (2.9.0.post0)\n",
            "Requirement already satisfied: pytz>=2020.1 in /usr/local/lib/python3.11/dist-packages (from pandas>=1.1.4->ultralytics) (2025.2)\n",
            "Requirement already satisfied: tzdata>=2022.7 in /usr/local/lib/python3.11/dist-packages (from pandas>=1.1.4->ultralytics) (2025.2)\n",
            "Requirement already satisfied: charset-normalizer<4,>=2 in /usr/local/lib/python3.11/dist-packages (from requests>=2.23.0->ultralytics) (3.4.2)\n",
            "Requirement already satisfied: idna<4,>=2.5 in /usr/local/lib/python3.11/dist-packages (from requests>=2.23.0->ultralytics) (3.10)\n",
            "Requirement already satisfied: urllib3<3,>=1.21.1 in /usr/local/lib/python3.11/dist-packages (from requests>=2.23.0->ultralytics) (2.5.0)\n",
            "Requirement already satisfied: certifi>=2017.4.17 in /usr/local/lib/python3.11/dist-packages (from requests>=2.23.0->ultralytics) (2025.7.14)\n",
            "Requirement already satisfied: filelock in /usr/local/lib/python3.11/dist-packages (from torch>=1.8.0->ultralytics) (3.18.0)\n",
            "Requirement already satisfied: typing-extensions>=4.10.0 in /usr/local/lib/python3.11/dist-packages (from torch>=1.8.0->ultralytics) (4.14.1)\n",
            "Requirement already satisfied: networkx in /usr/local/lib/python3.11/dist-packages (from torch>=1.8.0->ultralytics) (3.5)\n",
            "Requirement already satisfied: jinja2 in /usr/local/lib/python3.11/dist-packages (from torch>=1.8.0->ultralytics) (3.1.6)\n",
            "Requirement already satisfied: fsspec in /usr/local/lib/python3.11/dist-packages (from torch>=1.8.0->ultralytics) (2025.7.0)\n",
            "Collecting nvidia-cuda-nvrtc-cu12==12.4.127 (from torch>=1.8.0->ultralytics)\n",
            "  Downloading nvidia_cuda_nvrtc_cu12-12.4.127-py3-none-manylinux2014_x86_64.whl.metadata (1.5 kB)\n",
            "Collecting nvidia-cuda-runtime-cu12==12.4.127 (from torch>=1.8.0->ultralytics)\n",
            "  Downloading nvidia_cuda_runtime_cu12-12.4.127-py3-none-manylinux2014_x86_64.whl.metadata (1.5 kB)\n",
            "Collecting nvidia-cuda-cupti-cu12==12.4.127 (from torch>=1.8.0->ultralytics)\n",
            "  Downloading nvidia_cuda_cupti_cu12-12.4.127-py3-none-manylinux2014_x86_64.whl.metadata (1.6 kB)\n",
            "Collecting nvidia-cudnn-cu12==9.1.0.70 (from torch>=1.8.0->ultralytics)\n",
            "  Downloading nvidia_cudnn_cu12-9.1.0.70-py3-none-manylinux2014_x86_64.whl.metadata (1.6 kB)\n",
            "Collecting nvidia-cublas-cu12==12.4.5.8 (from torch>=1.8.0->ultralytics)\n",
            "  Downloading nvidia_cublas_cu12-12.4.5.8-py3-none-manylinux2014_x86_64.whl.metadata (1.5 kB)\n",
            "Collecting nvidia-cufft-cu12==11.2.1.3 (from torch>=1.8.0->ultralytics)\n",
            "  Downloading nvidia_cufft_cu12-11.2.1.3-py3-none-manylinux2014_x86_64.whl.metadata (1.5 kB)\n",
            "Collecting nvidia-curand-cu12==10.3.5.147 (from torch>=1.8.0->ultralytics)\n",
            "  Downloading nvidia_curand_cu12-10.3.5.147-py3-none-manylinux2014_x86_64.whl.metadata (1.5 kB)\n",
            "Collecting nvidia-cusolver-cu12==11.6.1.9 (from torch>=1.8.0->ultralytics)\n",
            "  Downloading nvidia_cusolver_cu12-11.6.1.9-py3-none-manylinux2014_x86_64.whl.metadata (1.6 kB)\n",
            "Collecting nvidia-cusparse-cu12==12.3.1.170 (from torch>=1.8.0->ultralytics)\n",
            "  Downloading nvidia_cusparse_cu12-12.3.1.170-py3-none-manylinux2014_x86_64.whl.metadata (1.6 kB)\n",
            "Requirement already satisfied: nvidia-cusparselt-cu12==0.6.2 in /usr/local/lib/python3.11/dist-packages (from torch>=1.8.0->ultralytics) (0.6.2)\n",
            "Requirement already satisfied: nvidia-nccl-cu12==2.21.5 in /usr/local/lib/python3.11/dist-packages (from torch>=1.8.0->ultralytics) (2.21.5)\n",
            "Requirement already satisfied: nvidia-nvtx-cu12==12.4.127 in /usr/local/lib/python3.11/dist-packages (from torch>=1.8.0->ultralytics) (12.4.127)\n",
            "Collecting nvidia-nvjitlink-cu12==12.4.127 (from torch>=1.8.0->ultralytics)\n",
            "  Downloading nvidia_nvjitlink_cu12-12.4.127-py3-none-manylinux2014_x86_64.whl.metadata (1.5 kB)\n",
            "Requirement already satisfied: triton==3.2.0 in /usr/local/lib/python3.11/dist-packages (from torch>=1.8.0->ultralytics) (3.2.0)\n",
            "Requirement already satisfied: sympy==1.13.1 in /usr/local/lib/python3.11/dist-packages (from torch>=1.8.0->ultralytics) (1.13.1)\n",
            "Requirement already satisfied: mpmath<1.4,>=1.1.0 in /usr/local/lib/python3.11/dist-packages (from sympy==1.13.1->torch>=1.8.0->ultralytics) (1.3.0)\n",
            "Requirement already satisfied: six>=1.5 in /usr/local/lib/python3.11/dist-packages (from python-dateutil>=2.7->matplotlib>=3.3.0->ultralytics) (1.17.0)\n",
            "Requirement already satisfied: MarkupSafe>=2.0 in /usr/local/lib/python3.11/dist-packages (from jinja2->torch>=1.8.0->ultralytics) (3.0.2)\n",
            "Downloading ultralytics-8.3.169-py3-none-any.whl (1.0 MB)\n",
            "\u001b[2K   \u001b[90m━━━━━━━━━━━━━━━━━━━━━━━━━━━━━━━━━━━━━━━━\u001b[0m \u001b[32m1.0/1.0 MB\u001b[0m \u001b[31m57.1 MB/s\u001b[0m eta \u001b[36m0:00:00\u001b[0m\n",
            "\u001b[?25hDownloading nvidia_cublas_cu12-12.4.5.8-py3-none-manylinux2014_x86_64.whl (363.4 MB)\n",
            "\u001b[2K   \u001b[90m━━━━━━━━━━━━━━━━━━━━━━━━━━━━━━━━━━━━━━━━\u001b[0m \u001b[32m363.4/363.4 MB\u001b[0m \u001b[31m2.7 MB/s\u001b[0m eta \u001b[36m0:00:00\u001b[0m\n",
            "\u001b[?25hDownloading nvidia_cuda_cupti_cu12-12.4.127-py3-none-manylinux2014_x86_64.whl (13.8 MB)\n",
            "\u001b[2K   \u001b[90m━━━━━━━━━━━━━━━━━━━━━━━━━━━━━━━━━━━━━━━━\u001b[0m \u001b[32m13.8/13.8 MB\u001b[0m \u001b[31m119.3 MB/s\u001b[0m eta \u001b[36m0:00:00\u001b[0m\n",
            "\u001b[?25hDownloading nvidia_cuda_nvrtc_cu12-12.4.127-py3-none-manylinux2014_x86_64.whl (24.6 MB)\n",
            "\u001b[2K   \u001b[90m━━━━━━━━━━━━━━━━━━━━━━━━━━━━━━━━━━━━━━━━\u001b[0m \u001b[32m24.6/24.6 MB\u001b[0m \u001b[31m98.0 MB/s\u001b[0m eta \u001b[36m0:00:00\u001b[0m\n",
            "\u001b[?25hDownloading nvidia_cuda_runtime_cu12-12.4.127-py3-none-manylinux2014_x86_64.whl (883 kB)\n",
            "\u001b[2K   \u001b[90m━━━━━━━━━━━━━━━━━━━━━━━━━━━━━━━━━━━━━━━━\u001b[0m \u001b[32m883.7/883.7 kB\u001b[0m \u001b[31m58.8 MB/s\u001b[0m eta \u001b[36m0:00:00\u001b[0m\n",
            "\u001b[?25hDownloading nvidia_cudnn_cu12-9.1.0.70-py3-none-manylinux2014_x86_64.whl (664.8 MB)\n",
            "\u001b[2K   \u001b[90m━━━━━━━━━━━━━━━━━━━━━━━━━━━━━━━━━━━━━━━━\u001b[0m \u001b[32m664.8/664.8 MB\u001b[0m \u001b[31m1.6 MB/s\u001b[0m eta \u001b[36m0:00:00\u001b[0m\n",
            "\u001b[?25hDownloading nvidia_cufft_cu12-11.2.1.3-py3-none-manylinux2014_x86_64.whl (211.5 MB)\n",
            "\u001b[2K   \u001b[90m━━━━━━━━━━━━━━━━━━━━━━━━━━━━━━━━━━━━━━━━\u001b[0m \u001b[32m211.5/211.5 MB\u001b[0m \u001b[31m4.0 MB/s\u001b[0m eta \u001b[36m0:00:00\u001b[0m\n",
            "\u001b[?25hDownloading nvidia_curand_cu12-10.3.5.147-py3-none-manylinux2014_x86_64.whl (56.3 MB)\n",
            "\u001b[2K   \u001b[90m━━━━━━━━━━━━━━━━━━━━━━━━━━━━━━━━━━━━━━━━\u001b[0m \u001b[32m56.3/56.3 MB\u001b[0m \u001b[31m37.5 MB/s\u001b[0m eta \u001b[36m0:00:00\u001b[0m\n",
            "\u001b[?25hDownloading nvidia_cusolver_cu12-11.6.1.9-py3-none-manylinux2014_x86_64.whl (127.9 MB)\n",
            "\u001b[2K   \u001b[90m━━━━━━━━━━━━━━━━━━━━━━━━━━━━━━━━━━━━━━━━\u001b[0m \u001b[32m127.9/127.9 MB\u001b[0m \u001b[31m16.7 MB/s\u001b[0m eta \u001b[36m0:00:00\u001b[0m\n",
            "\u001b[?25hDownloading nvidia_cusparse_cu12-12.3.1.170-py3-none-manylinux2014_x86_64.whl (207.5 MB)\n",
            "\u001b[2K   \u001b[90m━━━━━━━━━━━━━━━━━━━━━━━━━━━━━━━━━━━━━━━━\u001b[0m \u001b[32m207.5/207.5 MB\u001b[0m \u001b[31m5.0 MB/s\u001b[0m eta \u001b[36m0:00:00\u001b[0m\n",
            "\u001b[?25hDownloading nvidia_nvjitlink_cu12-12.4.127-py3-none-manylinux2014_x86_64.whl (21.1 MB)\n",
            "\u001b[2K   \u001b[90m━━━━━━━━━━━━━━━━━━━━━━━━━━━━━━━━━━━━━━━━\u001b[0m \u001b[32m21.1/21.1 MB\u001b[0m \u001b[31m108.2 MB/s\u001b[0m eta \u001b[36m0:00:00\u001b[0m\n",
            "\u001b[?25hDownloading ultralytics_thop-2.0.14-py3-none-any.whl (26 kB)\n",
            "Installing collected packages: nvidia-nvjitlink-cu12, nvidia-curand-cu12, nvidia-cufft-cu12, nvidia-cuda-runtime-cu12, nvidia-cuda-nvrtc-cu12, nvidia-cuda-cupti-cu12, nvidia-cublas-cu12, nvidia-cusparse-cu12, nvidia-cudnn-cu12, nvidia-cusolver-cu12, ultralytics-thop, ultralytics\n",
            "  Attempting uninstall: nvidia-nvjitlink-cu12\n",
            "    Found existing installation: nvidia-nvjitlink-cu12 12.5.82\n",
            "    Uninstalling nvidia-nvjitlink-cu12-12.5.82:\n",
            "      Successfully uninstalled nvidia-nvjitlink-cu12-12.5.82\n",
            "  Attempting uninstall: nvidia-curand-cu12\n",
            "    Found existing installation: nvidia-curand-cu12 10.3.6.82\n",
            "    Uninstalling nvidia-curand-cu12-10.3.6.82:\n",
            "      Successfully uninstalled nvidia-curand-cu12-10.3.6.82\n",
            "  Attempting uninstall: nvidia-cufft-cu12\n",
            "    Found existing installation: nvidia-cufft-cu12 11.2.3.61\n",
            "    Uninstalling nvidia-cufft-cu12-11.2.3.61:\n",
            "      Successfully uninstalled nvidia-cufft-cu12-11.2.3.61\n",
            "  Attempting uninstall: nvidia-cuda-runtime-cu12\n",
            "    Found existing installation: nvidia-cuda-runtime-cu12 12.5.82\n",
            "    Uninstalling nvidia-cuda-runtime-cu12-12.5.82:\n",
            "      Successfully uninstalled nvidia-cuda-runtime-cu12-12.5.82\n",
            "  Attempting uninstall: nvidia-cuda-nvrtc-cu12\n",
            "    Found existing installation: nvidia-cuda-nvrtc-cu12 12.5.82\n",
            "    Uninstalling nvidia-cuda-nvrtc-cu12-12.5.82:\n",
            "      Successfully uninstalled nvidia-cuda-nvrtc-cu12-12.5.82\n",
            "  Attempting uninstall: nvidia-cuda-cupti-cu12\n",
            "    Found existing installation: nvidia-cuda-cupti-cu12 12.5.82\n",
            "    Uninstalling nvidia-cuda-cupti-cu12-12.5.82:\n",
            "      Successfully uninstalled nvidia-cuda-cupti-cu12-12.5.82\n",
            "  Attempting uninstall: nvidia-cublas-cu12\n",
            "    Found existing installation: nvidia-cublas-cu12 12.5.3.2\n",
            "    Uninstalling nvidia-cublas-cu12-12.5.3.2:\n",
            "      Successfully uninstalled nvidia-cublas-cu12-12.5.3.2\n",
            "  Attempting uninstall: nvidia-cusparse-cu12\n",
            "    Found existing installation: nvidia-cusparse-cu12 12.5.1.3\n",
            "    Uninstalling nvidia-cusparse-cu12-12.5.1.3:\n",
            "      Successfully uninstalled nvidia-cusparse-cu12-12.5.1.3\n",
            "  Attempting uninstall: nvidia-cudnn-cu12\n",
            "    Found existing installation: nvidia-cudnn-cu12 9.3.0.75\n",
            "    Uninstalling nvidia-cudnn-cu12-9.3.0.75:\n",
            "      Successfully uninstalled nvidia-cudnn-cu12-9.3.0.75\n",
            "  Attempting uninstall: nvidia-cusolver-cu12\n",
            "    Found existing installation: nvidia-cusolver-cu12 11.6.3.83\n",
            "    Uninstalling nvidia-cusolver-cu12-11.6.3.83:\n",
            "      Successfully uninstalled nvidia-cusolver-cu12-11.6.3.83\n",
            "Successfully installed nvidia-cublas-cu12-12.4.5.8 nvidia-cuda-cupti-cu12-12.4.127 nvidia-cuda-nvrtc-cu12-12.4.127 nvidia-cuda-runtime-cu12-12.4.127 nvidia-cudnn-cu12-9.1.0.70 nvidia-cufft-cu12-11.2.1.3 nvidia-curand-cu12-10.3.5.147 nvidia-cusolver-cu12-11.6.1.9 nvidia-cusparse-cu12-12.3.1.170 nvidia-nvjitlink-cu12-12.4.127 ultralytics-8.3.169 ultralytics-thop-2.0.14\n"
          ]
        }
      ]
    },
    {
      "cell_type": "code",
      "source": [
        "import os\n",
        "import cv2\n",
        "import albumentations as A\n",
        "import matplotlib.pyplot as plt\n",
        "from glob import glob\n",
        "\n",
        "# === Klasörler ===\n",
        "IMG_DIR = \"/content/yolo_plate_dataset/images\"\n",
        "LABEL_DIR = \"/content/yolo_plate_dataset/label\"\n",
        "SAVE_IMG_DIR = \"/content/yolo_plate_dataset/images_aug\"\n",
        "SAVE_LABEL_DIR = \"/content/yolo_plate_dataset/label_aug\"\n",
        "\n",
        "os.makedirs(SAVE_IMG_DIR, exist_ok=True)\n",
        "os.makedirs(SAVE_LABEL_DIR, exist_ok=True)\n",
        "\n",
        "# === Augmentations ===\n",
        "augmentations = [\n",
        "    (\"Rotate\", A.Rotate(limit=20, p=1.0)),\n",
        "    (\"HorizontalFlip\", A.HorizontalFlip(p=1.0)),\n",
        "    (\"Brightness\", A.RandomBrightnessContrast(p=1.0)),\n",
        "    (\"Zoom\", A.RandomScale(scale_limit=0.4, p=1.0)),\n",
        "    (\"GaussNoise\", A.GaussNoise(var_limit=(10.0, 50.0), p=1.0)),\n",
        "    (\"Cutout\", A.CoarseDropout(max_holes=5, max_height=20, max_width=20, p=1.0)),\n",
        "    (\"MotionBlur\", A.MotionBlur(p=1.0)),\n",
        "    (\"MedianBlur\", A.MedianBlur(blur_limit=3, p=1.0))\n",
        "]\n",
        "\n",
        "# === Tüm resimler üzerinde dön ===\n",
        "image_paths = sorted(glob(os.path.join(IMG_DIR, \"*.jpg\")))\n",
        "\n",
        "for image_path in image_paths:\n",
        "    base_name = os.path.splitext(os.path.basename(image_path))[0]\n",
        "    label_path = os.path.join(LABEL_DIR, base_name + \".txt\")\n",
        "\n",
        "    if not os.path.exists(label_path):\n",
        "        print(f\"Etiket bulunamadı: {label_path}\")\n",
        "        continue\n",
        "\n",
        "    # Resmi oku\n",
        "    image = cv2.imread(image_path)\n",
        "    if image is None:\n",
        "        print(f\"Hatalı resim: {image_path}\")\n",
        "        continue\n",
        "    image = cv2.cvtColor(image, cv2.COLOR_BGR2RGB)\n",
        "\n",
        "    # Etiketi oku\n",
        "    bboxes = []\n",
        "    class_labels = []\n",
        "    with open(label_path, \"r\") as f:\n",
        "        for line in f:\n",
        "            parts = line.strip().split()\n",
        "            class_id = int(parts[0])\n",
        "            x_center, y_center, width, height = map(float, parts[1:])\n",
        "            bboxes.append([x_center, y_center, width, height])\n",
        "            class_labels.append(class_id)\n",
        "\n",
        "    # Her augment için dön\n",
        "    for title, aug in augmentations:\n",
        "        transform = A.Compose([aug], bbox_params=A.BboxParams(format='yolo', label_fields=[\"class_labels\"]))\n",
        "        try:\n",
        "            augmented = transform(image=image, bboxes=bboxes, class_labels=class_labels)\n",
        "        except Exception as e:\n",
        "            print(f\"Hata {title} - {base_name}: {e}\")\n",
        "            continue\n",
        "\n",
        "        image_aug = augmented[\"image\"]\n",
        "        bboxes_aug = augmented[\"bboxes\"]\n",
        "\n",
        "        if len(bboxes_aug) == 0:\n",
        "            print(f\"Skip {base_name}_{title}: bbox kayboldu.\")\n",
        "            continue\n",
        "\n",
        "        # Kaydet\n",
        "        save_img_path = os.path.join(SAVE_IMG_DIR, f\"{base_name}_{title}.jpg\")\n",
        "        save_label_path = os.path.join(SAVE_LABEL_DIR, f\"{base_name}_{title}.txt\")\n",
        "        cv2.imwrite(save_img_path, cv2.cvtColor(image_aug, cv2.COLOR_RGB2BGR))\n",
        "        with open(save_label_path, \"w\") as f:\n",
        "            for bbox in bboxes_aug:\n",
        "                f.write(f\"0 {bbox[0]} {bbox[1]} {bbox[2]} {bbox[3]}\\n\")\n",
        "\n",
        "        # Görselleştir\n",
        "        h, w, _ = image_aug.shape\n",
        "        img_vis = image_aug.copy()\n",
        "        for bbox in bboxes_aug:\n",
        "            x_center, y_center, width, height = bbox\n",
        "            x1 = int((x_center - width / 2) * w)\n",
        "            y1 = int((y_center - height / 2) * h)\n",
        "            x2 = int((x_center + width / 2) * w)\n",
        "            y2 = int((y_center + height / 2) * h)\n",
        "            cv2.rectangle(img_vis, (x1, y1), (x2, y2), (255, 0, 0), 2)\n",
        "\n",
        ""
      ],
      "metadata": {
        "colab": {
          "base_uri": "https://localhost:8080/"
        },
        "id": "3fmDZ1nNruNn",
        "outputId": "7b87d12b-4fbb-4789-d9f7-cfff0da721bd"
      },
      "execution_count": 5,
      "outputs": [
        {
          "output_type": "stream",
          "name": "stderr",
          "text": [
            "/tmp/ipython-input-5-1909207485.py:22: UserWarning: Argument(s) 'var_limit' are not valid for transform GaussNoise\n",
            "  (\"GaussNoise\", A.GaussNoise(var_limit=(10.0, 50.0), p=1.0)),\n",
            "/tmp/ipython-input-5-1909207485.py:23: UserWarning: Argument(s) 'max_holes, max_height, max_width' are not valid for transform CoarseDropout\n",
            "  (\"Cutout\", A.CoarseDropout(max_holes=5, max_height=20, max_width=20, p=1.0)),\n",
            "/usr/local/lib/python3.11/dist-packages/albumentations/core/composition.py:331: UserWarning: Got processor for bboxes, but no transform to process it.\n",
            "  self._set_keys()\n"
          ]
        },
        {
          "output_type": "stream",
          "name": "stdout",
          "text": [
            "Skip 1000_Cutout: bbox kayboldu.\n"
          ]
        },
        {
          "output_type": "stream",
          "name": "stderr",
          "text": [
            "/usr/local/lib/python3.11/dist-packages/albumentations/augmentations/dropout/functional.py:559: RuntimeWarning: invalid value encountered in divide\n",
            "  visibility_ratios = remaining_areas / box_areas\n"
          ]
        },
        {
          "output_type": "stream",
          "name": "stdout",
          "text": [
            "Skip 779_Cutout: bbox kayboldu.\n",
            "Hata Rotate - 823: y_max is less than or equal to y_min for bbox [0.611253 0.691324 0.612237 0.691324 0.      ].\n",
            "Hata HorizontalFlip - 823: y_max is less than or equal to y_min for bbox [0.611253 0.691324 0.612237 0.691324 0.      ].\n",
            "Hata Brightness - 823: y_max is less than or equal to y_min for bbox [0.611253 0.691324 0.612237 0.691324 0.      ].\n",
            "Hata Zoom - 823: y_max is less than or equal to y_min for bbox [0.611253 0.691324 0.612237 0.691324 0.      ].\n",
            "Hata GaussNoise - 823: y_max is less than or equal to y_min for bbox [0.611253 0.691324 0.612237 0.691324 0.      ].\n",
            "Hata Cutout - 823: y_max is less than or equal to y_min for bbox [0.611253 0.691324 0.612237 0.691324 0.      ].\n",
            "Hata MotionBlur - 823: y_max is less than or equal to y_min for bbox [0.611253 0.691324 0.612237 0.691324 0.      ].\n",
            "Hata MedianBlur - 823: y_max is less than or equal to y_min for bbox [0.611253 0.691324 0.612237 0.691324 0.      ].\n",
            "Hata Rotate - 829: y_max is less than or equal to y_min for bbox [0.530415   0.534028   0.53125495 0.534028   0.        ].\n",
            "Hata HorizontalFlip - 829: y_max is less than or equal to y_min for bbox [0.530415   0.534028   0.53125495 0.534028   0.        ].\n",
            "Hata Brightness - 829: y_max is less than or equal to y_min for bbox [0.530415   0.534028   0.53125495 0.534028   0.        ].\n",
            "Hata Zoom - 829: y_max is less than or equal to y_min for bbox [0.530415   0.534028   0.53125495 0.534028   0.        ].\n",
            "Hata GaussNoise - 829: y_max is less than or equal to y_min for bbox [0.530415   0.534028   0.53125495 0.534028   0.        ].\n",
            "Hata Cutout - 829: y_max is less than or equal to y_min for bbox [0.530415   0.534028   0.53125495 0.534028   0.        ].\n",
            "Hata MotionBlur - 829: y_max is less than or equal to y_min for bbox [0.530415   0.534028   0.53125495 0.534028   0.        ].\n",
            "Hata MedianBlur - 829: y_max is less than or equal to y_min for bbox [0.530415   0.534028   0.53125495 0.534028   0.        ].\n",
            "Hata Rotate - 858: x_max is less than or equal to x_min for bbox [0.555568  0.7097965 0.555568  0.7109515 0.       ].\n",
            "Hata HorizontalFlip - 858: x_max is less than or equal to x_min for bbox [0.555568  0.7097965 0.555568  0.7109515 0.       ].\n",
            "Hata Brightness - 858: x_max is less than or equal to x_min for bbox [0.555568  0.7097965 0.555568  0.7109515 0.       ].\n",
            "Hata Zoom - 858: x_max is less than or equal to x_min for bbox [0.555568  0.7097965 0.555568  0.7109515 0.       ].\n",
            "Hata GaussNoise - 858: x_max is less than or equal to x_min for bbox [0.555568  0.7097965 0.555568  0.7109515 0.       ].\n",
            "Hata Cutout - 858: x_max is less than or equal to x_min for bbox [0.555568  0.7097965 0.555568  0.7109515 0.       ].\n",
            "Hata MotionBlur - 858: x_max is less than or equal to x_min for bbox [0.555568  0.7097965 0.555568  0.7109515 0.       ].\n",
            "Hata MedianBlur - 858: x_max is less than or equal to x_min for bbox [0.555568  0.7097965 0.555568  0.7109515 0.       ].\n",
            "Hata Rotate - 891: y_max is less than or equal to y_min for bbox [0.57295346 0.603184   0.5741465  0.603184   0.        ].\n",
            "Hata HorizontalFlip - 891: y_max is less than or equal to y_min for bbox [0.57295346 0.603184   0.5741465  0.603184   0.        ].\n",
            "Hata Brightness - 891: y_max is less than or equal to y_min for bbox [0.57295346 0.603184   0.5741465  0.603184   0.        ].\n",
            "Hata Zoom - 891: y_max is less than or equal to y_min for bbox [0.57295346 0.603184   0.5741465  0.603184   0.        ].\n",
            "Hata GaussNoise - 891: y_max is less than or equal to y_min for bbox [0.57295346 0.603184   0.5741465  0.603184   0.        ].\n",
            "Hata Cutout - 891: y_max is less than or equal to y_min for bbox [0.57295346 0.603184   0.5741465  0.603184   0.        ].\n",
            "Hata MotionBlur - 891: y_max is less than or equal to y_min for bbox [0.57295346 0.603184   0.5741465  0.603184   0.        ].\n",
            "Hata MedianBlur - 891: y_max is less than or equal to y_min for bbox [0.57295346 0.603184   0.5741465  0.603184   0.        ].\n",
            "Hata Rotate - 892: y_max is less than or equal to y_min for bbox [0.438078 0.625952 0.440296 0.625952 0.      ].\n",
            "Hata HorizontalFlip - 892: y_max is less than or equal to y_min for bbox [0.438078 0.625952 0.440296 0.625952 0.      ].\n",
            "Hata Brightness - 892: y_max is less than or equal to y_min for bbox [0.438078 0.625952 0.440296 0.625952 0.      ].\n",
            "Hata Zoom - 892: y_max is less than or equal to y_min for bbox [0.438078 0.625952 0.440296 0.625952 0.      ].\n",
            "Hata GaussNoise - 892: y_max is less than or equal to y_min for bbox [0.438078 0.625952 0.440296 0.625952 0.      ].\n",
            "Hata Cutout - 892: y_max is less than or equal to y_min for bbox [0.438078 0.625952 0.440296 0.625952 0.      ].\n",
            "Hata MotionBlur - 892: y_max is less than or equal to y_min for bbox [0.438078 0.625952 0.440296 0.625952 0.      ].\n",
            "Hata MedianBlur - 892: y_max is less than or equal to y_min for bbox [0.438078 0.625952 0.440296 0.625952 0.      ].\n",
            "Hata Rotate - 903: x_max is less than or equal to x_min for bbox [0.504093   0.54428303 0.504093   0.544811   0.        ].\n",
            "Hata HorizontalFlip - 903: x_max is less than or equal to x_min for bbox [0.504093   0.54428303 0.504093   0.544811   0.        ].\n",
            "Hata Brightness - 903: x_max is less than or equal to x_min for bbox [0.504093   0.54428303 0.504093   0.544811   0.        ].\n",
            "Hata Zoom - 903: x_max is less than or equal to x_min for bbox [0.504093   0.54428303 0.504093   0.544811   0.        ].\n",
            "Hata GaussNoise - 903: x_max is less than or equal to x_min for bbox [0.504093   0.54428303 0.504093   0.544811   0.        ].\n",
            "Hata Cutout - 903: x_max is less than or equal to x_min for bbox [0.504093   0.54428303 0.504093   0.544811   0.        ].\n",
            "Hata MotionBlur - 903: x_max is less than or equal to x_min for bbox [0.504093   0.54428303 0.504093   0.544811   0.        ].\n",
            "Hata MedianBlur - 903: x_max is less than or equal to x_min for bbox [0.504093   0.54428303 0.504093   0.544811   0.        ].\n",
            "Skip 914_Cutout: bbox kayboldu.\n",
            "Skip 919_Cutout: bbox kayboldu.\n",
            "Skip 939_Cutout: bbox kayboldu.\n",
            "Skip 966_Cutout: bbox kayboldu.\n"
          ]
        }
      ]
    },
    {
      "cell_type": "code",
      "source": [
        "import os\n",
        "import random\n",
        "import shutil\n",
        "from glob import glob\n",
        "\n",
        "base_dir = \"/content/yolo_plate_dataset\"\n",
        "\n",
        "# 1. Tüm görselleri topla (orijinal + augment)\n",
        "all_image_paths = glob(f\"{base_dir}/images/*.jpg\") + glob(f\"{base_dir}/images_aug/*.jpg\")\n",
        "random.shuffle(all_image_paths)\n",
        "\n",
        "# 2. Eğitim ve doğrulama oranı\n",
        "train_size = int(0.8 * len(all_image_paths))\n",
        "train_imgs = all_image_paths[:train_size]\n",
        "val_imgs = all_image_paths[train_size:]\n",
        "\n",
        "# 3. Hedef klasörleri oluştur\n",
        "for split in ['train', 'val']:\n",
        "    os.makedirs(f\"{base_dir}/images/{split}\", exist_ok=True)\n",
        "    os.makedirs(f\"{base_dir}/labels/{split}\", exist_ok=True)\n",
        "\n",
        "# 4. Dosyaları taşı\n",
        "def move_data(img_paths, split):\n",
        "    for img_path in img_paths:\n",
        "        img_name = os.path.basename(img_path)\n",
        "        label_name = img_name.replace(\".jpg\", \".txt\")\n",
        "\n",
        "        # Görseli taşı\n",
        "        shutil.copy(img_path, f\"{base_dir}/images/{split}/{img_name}\")\n",
        "\n",
        "        # Etiket hangi klasördeyse onu bul\n",
        "        label_src = None\n",
        "        for lbl_dir in ['label', 'label_aug']:\n",
        "            possible_path = os.path.join(base_dir, lbl_dir, label_name)\n",
        "            if os.path.exists(possible_path):\n",
        "                label_src = possible_path\n",
        "                break\n",
        "\n",
        "        if label_src:\n",
        "            shutil.copy(label_src, f\"{base_dir}/labels/{split}/{label_name}\")\n",
        "        else:\n",
        "            print(f\"⚠️ Etiket bulunamadı: {label_name}\")\n",
        "\n",
        "# 5. Taşıma işlemi\n",
        "move_data(train_imgs, 'train')\n",
        "move_data(val_imgs, 'val')"
      ],
      "metadata": {
        "id": "qYRzN1j8_8PR"
      },
      "execution_count": 6,
      "outputs": []
    },
    {
      "cell_type": "code",
      "source": [
        "model.train(\n",
        "    data=\"/content/yolo_plate_dataset/data.yaml\",\n",
        "    epochs=25,\n",
        "    patience=4,\n",
        "    imgsz=224,\n",
        "    batch=8,\n",
        "    save=True,                      # model kaydetsin\n",
        "    save_period=1,                  # her epochta kaydetsin\n",
        "    resume=False,                   # sıfırdan başla\n",
        "    project=\"/content/drive/MyDrive/yolo_training\",  # Drive klasörü\n",
        "    name=\"plate_model\",             # Kaydedilecek alt klasör\n",
        "    exist_ok=True                   # varsa üzerine yazsın\n",
        ")"
      ],
      "metadata": {
        "colab": {
          "base_uri": "https://localhost:8080/"
        },
        "id": "oovHsoZkru1Y",
        "outputId": "8d421349-5111-42b3-af9e-c9995b72bcec"
      },
      "execution_count": null,
      "outputs": [
        {
          "metadata": {
            "tags": null
          },
          "name": "stdout",
          "output_type": "stream",
          "text": [
            "Ultralytics 8.3.169 🚀 Python-3.11.13 torch-2.6.0+cu124 CUDA:0 (NVIDIA L4, 22693MiB)\n",
            "\u001b[34m\u001b[1mengine/trainer: \u001b[0magnostic_nms=False, amp=True, augment=False, auto_augment=randaugment, batch=8, bgr=0.0, box=7.5, cache=False, cfg=None, classes=None, close_mosaic=10, cls=0.5, conf=None, copy_paste=0.0, copy_paste_mode=flip, cos_lr=False, cutmix=0.0, data=/content/yolo_plate_dataset/data.yaml, degrees=0.0, deterministic=True, device=None, dfl=1.5, dnn=False, dropout=0.0, dynamic=False, embed=None, epochs=25, erasing=0.4, exist_ok=True, fliplr=0.5, flipud=0.0, format=torchscript, fraction=1.0, freeze=None, half=False, hsv_h=0.015, hsv_s=0.7, hsv_v=0.4, imgsz=224, int8=False, iou=0.7, keras=False, kobj=1.0, line_width=None, lr0=0.01, lrf=0.01, mask_ratio=4, max_det=300, mixup=0.0, mode=train, model=yolov8n.pt, momentum=0.937, mosaic=1.0, multi_scale=False, name=plate_model, nbs=64, nms=False, opset=None, optimize=False, optimizer=auto, overlap_mask=True, patience=4, perspective=0.0, plots=True, pose=12.0, pretrained=True, profile=False, project=/content/drive/MyDrive/yolo_training, rect=False, resume=False, retina_masks=False, save=True, save_conf=False, save_crop=False, save_dir=/content/drive/MyDrive/yolo_training/plate_model, save_frames=False, save_json=False, save_period=1, save_txt=False, scale=0.5, seed=0, shear=0.0, show=False, show_boxes=True, show_conf=True, show_labels=True, simplify=True, single_cls=False, source=None, split=val, stream_buffer=False, task=detect, time=None, tracker=botsort.yaml, translate=0.1, val=True, verbose=True, vid_stride=1, visualize=False, warmup_bias_lr=0.1, warmup_epochs=3.0, warmup_momentum=0.8, weight_decay=0.0005, workers=8, workspace=None\n",
            "\n",
            "                   from  n    params  module                                       arguments                     \n",
            "  0                  -1  1       464  ultralytics.nn.modules.conv.Conv             [3, 16, 3, 2]                 \n",
            "  1                  -1  1      4672  ultralytics.nn.modules.conv.Conv             [16, 32, 3, 2]                \n",
            "  2                  -1  1      7360  ultralytics.nn.modules.block.C2f             [32, 32, 1, True]             \n",
            "  3                  -1  1     18560  ultralytics.nn.modules.conv.Conv             [32, 64, 3, 2]                \n",
            "  4                  -1  2     49664  ultralytics.nn.modules.block.C2f             [64, 64, 2, True]             \n",
            "  5                  -1  1     73984  ultralytics.nn.modules.conv.Conv             [64, 128, 3, 2]               \n",
            "  6                  -1  2    197632  ultralytics.nn.modules.block.C2f             [128, 128, 2, True]           \n",
            "  7                  -1  1    295424  ultralytics.nn.modules.conv.Conv             [128, 256, 3, 2]              \n",
            "  8                  -1  1    460288  ultralytics.nn.modules.block.C2f             [256, 256, 1, True]           \n",
            "  9                  -1  1    164608  ultralytics.nn.modules.block.SPPF            [256, 256, 5]                 \n",
            " 10                  -1  1         0  torch.nn.modules.upsampling.Upsample         [None, 2, 'nearest']          \n",
            " 11             [-1, 6]  1         0  ultralytics.nn.modules.conv.Concat           [1]                           \n",
            " 12                  -1  1    148224  ultralytics.nn.modules.block.C2f             [384, 128, 1]                 \n",
            " 13                  -1  1         0  torch.nn.modules.upsampling.Upsample         [None, 2, 'nearest']          \n",
            " 14             [-1, 4]  1         0  ultralytics.nn.modules.conv.Concat           [1]                           \n",
            " 15                  -1  1     37248  ultralytics.nn.modules.block.C2f             [192, 64, 1]                  \n",
            " 16                  -1  1     36992  ultralytics.nn.modules.conv.Conv             [64, 64, 3, 2]                \n",
            " 17            [-1, 12]  1         0  ultralytics.nn.modules.conv.Concat           [1]                           \n",
            " 18                  -1  1    123648  ultralytics.nn.modules.block.C2f             [192, 128, 1]                 \n",
            " 19                  -1  1    147712  ultralytics.nn.modules.conv.Conv             [128, 128, 3, 2]              \n",
            " 20             [-1, 9]  1         0  ultralytics.nn.modules.conv.Concat           [1]                           \n",
            " 21                  -1  1    493056  ultralytics.nn.modules.block.C2f             [384, 256, 1]                 \n",
            " 22        [15, 18, 21]  1    751507  ultralytics.nn.modules.head.Detect           [1, [64, 128, 256]]           \n",
            "Model summary: 129 layers, 3,011,043 parameters, 3,011,027 gradients, 8.2 GFLOPs\n",
            "\n",
            "Transferred 355/355 items from pretrained weights\n",
            "Freezing layer 'model.22.dfl.conv.weight'\n",
            "\u001b[34m\u001b[1mAMP: \u001b[0mrunning Automatic Mixed Precision (AMP) checks...\n",
            "\u001b[34m\u001b[1mAMP: \u001b[0mchecks passed ✅\n",
            "\u001b[34m\u001b[1mtrain: \u001b[0mFast image access ✅ (ping: 0.0±0.0 ms, read: 1031.0±553.8 MB/s, size: 35.0 KB)\n"
          ]
        },
        {
          "metadata": {
            "tags": null
          },
          "name": "stderr",
          "output_type": "stream",
          "text": [
            "\u001b[34m\u001b[1mtrain: \u001b[0mScanning /content/yolo_plate_dataset/labels/train... 116210 images, 0 backgrounds, 0 corrupt: 100%|██████████| 116210/116210 [01:14<00:00, 1565.58it/s]\n"
          ]
        },
        {
          "metadata": {
            "tags": null
          },
          "name": "stdout",
          "output_type": "stream",
          "text": [
            "\u001b[34m\u001b[1mtrain: \u001b[0mNew cache created: /content/yolo_plate_dataset/labels/train.cache\n",
            "\u001b[34m\u001b[1malbumentations: \u001b[0mBlur(p=0.01, blur_limit=(3, 7)), MedianBlur(p=0.01, blur_limit=(3, 7)), ToGray(p=0.01, method='weighted_average', num_output_channels=3), CLAHE(p=0.01, clip_limit=(1.0, 4.0), tile_grid_size=(8, 8))\n",
            "\u001b[34m\u001b[1mval: \u001b[0mFast image access ✅ (ping: 0.0±0.0 ms, read: 286.6±327.0 MB/s, size: 29.4 KB)\n"
          ]
        },
        {
          "metadata": {
            "tags": null
          },
          "name": "stderr",
          "output_type": "stream",
          "text": [
            "\u001b[34m\u001b[1mval: \u001b[0mScanning /content/yolo_plate_dataset/labels/val... 30914 images, 0 backgrounds, 0 corrupt: 100%|██████████| 30914/30914 [00:19<00:00, 1565.29it/s]\n"
          ]
        },
        {
          "metadata": {
            "tags": null
          },
          "name": "stdout",
          "output_type": "stream",
          "text": [
            "\u001b[34m\u001b[1mval: \u001b[0mNew cache created: /content/yolo_plate_dataset/labels/val.cache\n",
            "Plotting labels to /content/drive/MyDrive/yolo_training/plate_model/labels.jpg... \n",
            "\u001b[34m\u001b[1moptimizer:\u001b[0m 'optimizer=auto' found, ignoring 'lr0=0.01' and 'momentum=0.937' and determining best 'optimizer', 'lr0' and 'momentum' automatically... \n",
            "\u001b[34m\u001b[1moptimizer:\u001b[0m SGD(lr=0.01, momentum=0.9) with parameter groups 57 weight(decay=0.0), 64 weight(decay=0.0005), 63 bias(decay=0.0)\n",
            "Image sizes 224 train, 224 val\n",
            "Using 8 dataloader workers\n",
            "Logging results to \u001b[1m/content/drive/MyDrive/yolo_training/plate_model\u001b[0m\n",
            "Starting training for 25 epochs...\n",
            "\n",
            "      Epoch    GPU_mem   box_loss   cls_loss   dfl_loss  Instances       Size\n"
          ]
        },
        {
          "metadata": {
            "tags": null
          },
          "name": "stderr",
          "output_type": "stream",
          "text": [
            "       1/25     0.352G      1.307     0.8157     0.9258          2        224: 100%|██████████| 14527/14527 [18:55<00:00, 12.79it/s]\n",
            "                 Class     Images  Instances      Box(P          R      mAP50  mAP50-95): 100%|██████████| 1933/1933 [02:06<00:00, 15.32it/s]\n"
          ]
        },
        {
          "metadata": {
            "tags": null
          },
          "name": "stdout",
          "output_type": "stream",
          "text": [
            "                   all      30914      32684      0.956      0.888      0.933      0.658\n",
            "\n",
            "      Epoch    GPU_mem   box_loss   cls_loss   dfl_loss  Instances       Size\n"
          ]
        },
        {
          "metadata": {
            "tags": null
          },
          "name": "stderr",
          "output_type": "stream",
          "text": [
            "       2/25     0.352G      1.239     0.6965     0.9187          3        224: 100%|██████████| 14527/14527 [17:39<00:00, 13.71it/s]\n",
            "                 Class     Images  Instances      Box(P          R      mAP50  mAP50-95): 100%|██████████| 1933/1933 [02:03<00:00, 15.64it/s]\n"
          ]
        },
        {
          "metadata": {
            "tags": null
          },
          "name": "stdout",
          "output_type": "stream",
          "text": [
            "                   all      30914      32684      0.969        0.9       0.94      0.683\n",
            "\n",
            "      Epoch    GPU_mem   box_loss   cls_loss   dfl_loss  Instances       Size\n"
          ]
        },
        {
          "metadata": {
            "tags": null
          },
          "name": "stderr",
          "output_type": "stream",
          "text": [
            "       3/25     0.352G      1.208     0.6721     0.9161          2        224: 100%|██████████| 14527/14527 [17:15<00:00, 14.03it/s]\n",
            "                 Class     Images  Instances      Box(P          R      mAP50  mAP50-95): 100%|██████████| 1933/1933 [02:04<00:00, 15.51it/s]\n"
          ]
        },
        {
          "metadata": {
            "tags": null
          },
          "name": "stdout",
          "output_type": "stream",
          "text": [
            "                   all      30914      32684      0.968      0.904      0.944      0.694\n",
            "\n",
            "      Epoch    GPU_mem   box_loss   cls_loss   dfl_loss  Instances       Size\n"
          ]
        },
        {
          "metadata": {
            "tags": null
          },
          "name": "stderr",
          "output_type": "stream",
          "text": [
            "       4/25     0.352G       1.15     0.6327     0.9064          5        224: 100%|██████████| 14527/14527 [17:12<00:00, 14.07it/s]\n",
            "                 Class     Images  Instances      Box(P          R      mAP50  mAP50-95): 100%|██████████| 1933/1933 [02:04<00:00, 15.52it/s]\n"
          ]
        },
        {
          "metadata": {
            "tags": null
          },
          "name": "stdout",
          "output_type": "stream",
          "text": [
            "                   all      30914      32684      0.971      0.906      0.947      0.707\n",
            "\n",
            "      Epoch    GPU_mem   box_loss   cls_loss   dfl_loss  Instances       Size\n"
          ]
        },
        {
          "metadata": {
            "tags": null
          },
          "name": "stderr",
          "output_type": "stream",
          "text": [
            "       5/25     0.352G      1.083     0.5865     0.8932          4        224: 100%|██████████| 14527/14527 [17:08<00:00, 14.12it/s]\n",
            "                 Class     Images  Instances      Box(P          R      mAP50  mAP50-95): 100%|██████████| 1933/1933 [02:04<00:00, 15.51it/s]\n"
          ]
        },
        {
          "metadata": {
            "tags": null
          },
          "name": "stdout",
          "output_type": "stream",
          "text": [
            "                   all      30914      32684      0.973      0.907      0.949      0.714\n",
            "\n",
            "      Epoch    GPU_mem   box_loss   cls_loss   dfl_loss  Instances       Size\n"
          ]
        },
        {
          "metadata": {
            "tags": null
          },
          "name": "stderr",
          "output_type": "stream",
          "text": [
            "       6/25     0.352G      1.045       0.56     0.8846          3        224: 100%|██████████| 14527/14527 [16:59<00:00, 14.25it/s]\n",
            "                 Class     Images  Instances      Box(P          R      mAP50  mAP50-95): 100%|██████████| 1933/1933 [02:04<00:00, 15.54it/s]\n"
          ]
        },
        {
          "metadata": {
            "tags": null
          },
          "name": "stdout",
          "output_type": "stream",
          "text": [
            "                   all      30914      32684      0.974      0.909      0.951       0.72\n",
            "\n",
            "      Epoch    GPU_mem   box_loss   cls_loss   dfl_loss  Instances       Size\n"
          ]
        },
        {
          "metadata": {
            "tags": null
          },
          "name": "stderr",
          "output_type": "stream",
          "text": [
            "       7/25     0.352G      1.016     0.5399     0.8782          5        224: 100%|██████████| 14527/14527 [17:05<00:00, 14.16it/s]\n",
            "                 Class     Images  Instances      Box(P          R      mAP50  mAP50-95): 100%|██████████| 1933/1933 [02:04<00:00, 15.54it/s]\n"
          ]
        },
        {
          "metadata": {
            "tags": null
          },
          "name": "stdout",
          "output_type": "stream",
          "text": [
            "                   all      30914      32684      0.974      0.911      0.952      0.724\n",
            "\n",
            "      Epoch    GPU_mem   box_loss   cls_loss   dfl_loss  Instances       Size\n"
          ]
        },
        {
          "metadata": {
            "tags": null
          },
          "name": "stderr",
          "output_type": "stream",
          "text": [
            "       8/25     0.352G          1     0.5287     0.8749          5        224: 100%|██████████| 14527/14527 [17:06<00:00, 14.15it/s]\n",
            "                 Class     Images  Instances      Box(P          R      mAP50  mAP50-95): 100%|██████████| 1933/1933 [02:03<00:00, 15.63it/s]\n"
          ]
        },
        {
          "metadata": {
            "tags": null
          },
          "name": "stdout",
          "output_type": "stream",
          "text": [
            "                   all      30914      32684      0.975      0.911      0.953      0.727\n",
            "\n",
            "      Epoch    GPU_mem   box_loss   cls_loss   dfl_loss  Instances       Size\n"
          ]
        },
        {
          "metadata": {
            "tags": null
          },
          "name": "stderr",
          "output_type": "stream",
          "text": [
            "       9/25     0.352G       0.98     0.5184     0.8716          5        224: 100%|██████████| 14527/14527 [17:06<00:00, 14.15it/s]\n",
            "                 Class     Images  Instances      Box(P          R      mAP50  mAP50-95): 100%|██████████| 1933/1933 [02:03<00:00, 15.60it/s]\n"
          ]
        },
        {
          "metadata": {
            "tags": null
          },
          "name": "stdout",
          "output_type": "stream",
          "text": [
            "                   all      30914      32684      0.976      0.912      0.953      0.731\n",
            "\n",
            "      Epoch    GPU_mem   box_loss   cls_loss   dfl_loss  Instances       Size\n"
          ]
        },
        {
          "metadata": {
            "tags": null
          },
          "name": "stderr",
          "output_type": "stream",
          "text": [
            "      10/25     0.352G     0.9646     0.5058     0.8693          2        224: 100%|██████████| 14527/14527 [17:07<00:00, 14.14it/s]\n",
            "                 Class     Images  Instances      Box(P          R      mAP50  mAP50-95): 100%|██████████| 1933/1933 [02:04<00:00, 15.49it/s]\n"
          ]
        },
        {
          "metadata": {
            "tags": null
          },
          "name": "stdout",
          "output_type": "stream",
          "text": [
            "                   all      30914      32684      0.975      0.915      0.954      0.735\n",
            "\n",
            "      Epoch    GPU_mem   box_loss   cls_loss   dfl_loss  Instances       Size\n"
          ]
        },
        {
          "metadata": {
            "tags": null
          },
          "name": "stderr",
          "output_type": "stream",
          "text": [
            "      11/25     0.352G     0.9531     0.4982     0.8667          2        224: 100%|██████████| 14527/14527 [17:08<00:00, 14.13it/s]\n",
            "                 Class     Images  Instances      Box(P          R      mAP50  mAP50-95): 100%|██████████| 1933/1933 [02:04<00:00, 15.52it/s]\n"
          ]
        },
        {
          "metadata": {
            "tags": null
          },
          "name": "stdout",
          "output_type": "stream",
          "text": [
            "                   all      30914      32684      0.975      0.916      0.956      0.739\n",
            "\n",
            "      Epoch    GPU_mem   box_loss   cls_loss   dfl_loss  Instances       Size\n"
          ]
        },
        {
          "metadata": {
            "tags": null
          },
          "name": "stderr",
          "output_type": "stream",
          "text": [
            "      12/25     0.352G     0.9411     0.4903     0.8641          1        224: 100%|██████████| 14527/14527 [17:08<00:00, 14.12it/s]\n",
            "                 Class     Images  Instances      Box(P          R      mAP50  mAP50-95): 100%|██████████| 1933/1933 [02:04<00:00, 15.59it/s]\n"
          ]
        },
        {
          "metadata": {
            "tags": null
          },
          "name": "stdout",
          "output_type": "stream",
          "text": [
            "                   all      30914      32684      0.976      0.917      0.956      0.743\n",
            "\n",
            "      Epoch    GPU_mem   box_loss   cls_loss   dfl_loss  Instances       Size\n"
          ]
        },
        {
          "metadata": {
            "tags": null
          },
          "name": "stderr",
          "output_type": "stream",
          "text": [
            "      13/25     0.352G     0.9276     0.4796      0.862          3        224: 100%|██████████| 14527/14527 [17:11<00:00, 14.08it/s]\n",
            "                 Class     Images  Instances      Box(P          R      mAP50  mAP50-95): 100%|██████████| 1933/1933 [02:03<00:00, 15.63it/s]\n"
          ]
        },
        {
          "metadata": {
            "tags": null
          },
          "name": "stdout",
          "output_type": "stream",
          "text": [
            "                   all      30914      32684      0.976      0.917      0.957      0.746\n",
            "\n",
            "      Epoch    GPU_mem   box_loss   cls_loss   dfl_loss  Instances       Size\n"
          ]
        },
        {
          "metadata": {
            "tags": null
          },
          "name": "stderr",
          "output_type": "stream",
          "text": [
            "      14/25     0.352G      0.917     0.4727     0.8604          1        224: 100%|██████████| 14527/14527 [17:10<00:00, 14.09it/s]\n",
            "                 Class     Images  Instances      Box(P          R      mAP50  mAP50-95): 100%|██████████| 1933/1933 [02:03<00:00, 15.63it/s]\n"
          ]
        },
        {
          "metadata": {
            "tags": null
          },
          "name": "stdout",
          "output_type": "stream",
          "text": [
            "                   all      30914      32684      0.977      0.917      0.958       0.75\n",
            "\n",
            "      Epoch    GPU_mem   box_loss   cls_loss   dfl_loss  Instances       Size\n"
          ]
        },
        {
          "metadata": {
            "tags": null
          },
          "name": "stderr",
          "output_type": "stream",
          "text": [
            "      15/25     0.352G     0.9064     0.4668     0.8581          4        224: 100%|██████████| 14527/14527 [17:08<00:00, 14.12it/s]\n",
            "                 Class     Images  Instances      Box(P          R      mAP50  mAP50-95): 100%|██████████| 1933/1933 [02:04<00:00, 15.54it/s]\n"
          ]
        },
        {
          "metadata": {
            "tags": null
          },
          "name": "stdout",
          "output_type": "stream",
          "text": [
            "                   all      30914      32684      0.977      0.918      0.959      0.753\n",
            "Closing dataloader mosaic\n",
            "\u001b[34m\u001b[1malbumentations: \u001b[0mBlur(p=0.01, blur_limit=(3, 7)), MedianBlur(p=0.01, blur_limit=(3, 7)), ToGray(p=0.01, method='weighted_average', num_output_channels=3), CLAHE(p=0.01, clip_limit=(1.0, 4.0), tile_grid_size=(8, 8))\n",
            "\n",
            "      Epoch    GPU_mem   box_loss   cls_loss   dfl_loss  Instances       Size\n"
          ]
        },
        {
          "metadata": {
            "tags": null
          },
          "name": "stderr",
          "output_type": "stream",
          "text": [
            "      16/25     0.352G     0.8302     0.4256     0.8431          2        224: 100%|██████████| 14527/14527 [17:19<00:00, 13.97it/s]\n",
            "                 Class     Images  Instances      Box(P          R      mAP50  mAP50-95): 100%|██████████| 1933/1933 [02:04<00:00, 15.53it/s]\n"
          ]
        },
        {
          "metadata": {
            "tags": null
          },
          "name": "stdout",
          "output_type": "stream",
          "text": [
            "                   all      30914      32684      0.978      0.918      0.959      0.757\n",
            "\n",
            "      Epoch    GPU_mem   box_loss   cls_loss   dfl_loss  Instances       Size\n"
          ]
        },
        {
          "output_type": "stream",
          "name": "stderr",
          "text": [
            "      17/25     0.352G     0.8054     0.4111     0.8371          2        224: 100%|██████████| 14527/14527 [17:13<00:00, 14.05it/s]\n",
            "                 Class     Images  Instances      Box(P          R      mAP50  mAP50-95): 100%|██████████| 1933/1933 [02:03<00:00, 15.60it/s]\n"
          ]
        },
        {
          "output_type": "stream",
          "name": "stdout",
          "text": [
            "                   all      30914      32684      0.978      0.918      0.959       0.76\n",
            "\n",
            "      Epoch    GPU_mem   box_loss   cls_loss   dfl_loss  Instances       Size\n"
          ]
        },
        {
          "output_type": "stream",
          "name": "stderr",
          "text": [
            "      18/25     0.352G     0.7886     0.4008     0.8342          2        224: 100%|██████████| 14527/14527 [17:19<00:00, 13.98it/s]\n",
            "                 Class     Images  Instances      Box(P          R      mAP50  mAP50-95): 100%|██████████| 1933/1933 [02:03<00:00, 15.67it/s]\n"
          ]
        },
        {
          "output_type": "stream",
          "name": "stdout",
          "text": [
            "                   all      30914      32684      0.979       0.92       0.96      0.764\n",
            "\n",
            "      Epoch    GPU_mem   box_loss   cls_loss   dfl_loss  Instances       Size\n"
          ]
        },
        {
          "output_type": "stream",
          "name": "stderr",
          "text": [
            "      19/25     0.352G     0.7721     0.3906     0.8309          2        224: 100%|██████████| 14527/14527 [17:12<00:00, 14.07it/s]\n",
            "                 Class     Images  Instances      Box(P          R      mAP50  mAP50-95): 100%|██████████| 1933/1933 [02:03<00:00, 15.70it/s]\n"
          ]
        },
        {
          "output_type": "stream",
          "name": "stdout",
          "text": [
            "                   all      30914      32684      0.979       0.92      0.961      0.769\n",
            "\n",
            "      Epoch    GPU_mem   box_loss   cls_loss   dfl_loss  Instances       Size\n"
          ]
        },
        {
          "output_type": "stream",
          "name": "stderr",
          "text": [
            "      20/25     0.352G     0.7542     0.3812     0.8277          8        224:  90%|████████▉ | 13018/14527 [15:28<01:45, 14.34it/s]"
          ]
        }
      ]
    },
    {
      "cell_type": "code",
      "source": [
        "from ultralytics import YOLO\n",
        "\n",
        "model = YOLO(\"/content/drive/MyDrive/yolo_training/plate_model/weights/best.pt\")\n",
        "model.export(format=\"onnx\", dynamic=True)"
      ],
      "metadata": {
        "colab": {
          "base_uri": "https://localhost:8080/",
          "height": 395
        },
        "id": "2IjiSpqNsu3g",
        "outputId": "ab12553e-1742-4440-c3fd-a399e6858035"
      },
      "execution_count": 5,
      "outputs": [
        {
          "output_type": "stream",
          "name": "stdout",
          "text": [
            "Ultralytics 8.3.169 🚀 Python-3.11.13 torch-2.6.0+cu124 CPU (Intel Xeon 2.20GHz)\n",
            "💡 ProTip: Export to OpenVINO format for best performance on Intel hardware. Learn more at https://docs.ultralytics.com/integrations/openvino/\n",
            "Model summary (fused): 72 layers, 3,005,843 parameters, 0 gradients, 8.1 GFLOPs\n",
            "\n",
            "\u001b[34m\u001b[1mPyTorch:\u001b[0m starting from '/content/drive/MyDrive/yolo_training/plate_model/weights/best.pt' with input shape (1, 3, 224, 224) BCHW and output shape(s) (1, 5, 1029) (11.7 MB)\n",
            "\u001b[31m\u001b[1mrequirements:\u001b[0m Ultralytics requirements ['onnx>=1.12.0,<1.18.0', 'onnxslim>=0.1.59', 'onnxruntime'] not found, attempting AutoUpdate...\n",
            "\n",
            "\u001b[31m\u001b[1mrequirements:\u001b[0m AutoUpdate success ✅ 2.1s\n",
            "WARNING ⚠️ \u001b[31m\u001b[1mrequirements:\u001b[0m \u001b[1mRestart runtime or rerun command for updates to take effect\u001b[0m\n",
            "\n",
            "\n",
            "\u001b[34m\u001b[1mONNX:\u001b[0m starting export with onnx 1.17.0 opset 19...\n",
            "\u001b[34m\u001b[1mONNX:\u001b[0m slimming with onnxslim 0.1.61...\n",
            "\u001b[34m\u001b[1mONNX:\u001b[0m export success ✅ 8.3s, saved as '/content/drive/MyDrive/yolo_training/plate_model/weights/best.onnx' (11.6 MB)\n",
            "\n",
            "Export complete (8.8s)\n",
            "Results saved to \u001b[1m/content/drive/MyDrive/yolo_training/plate_model/weights\u001b[0m\n",
            "Predict:         yolo predict task=detect model=/content/drive/MyDrive/yolo_training/plate_model/weights/best.onnx imgsz=224  \n",
            "Validate:        yolo val task=detect model=/content/drive/MyDrive/yolo_training/plate_model/weights/best.onnx imgsz=224 data=/content/yolo_plate_dataset/data.yaml  \n",
            "Visualize:       https://netron.app\n"
          ]
        },
        {
          "output_type": "execute_result",
          "data": {
            "text/plain": [
              "'/content/drive/MyDrive/yolo_training/plate_model/weights/best.onnx'"
            ],
            "application/vnd.google.colaboratory.intrinsic+json": {
              "type": "string"
            }
          },
          "metadata": {},
          "execution_count": 5
        }
      ]
    }
  ]
}